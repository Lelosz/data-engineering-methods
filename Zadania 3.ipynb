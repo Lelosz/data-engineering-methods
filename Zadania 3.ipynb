{
 "cells": [
  {
   "cell_type": "code",
   "execution_count": 13,
   "id": "1b636ea9",
   "metadata": {},
   "outputs": [
    {
     "name": "stdout",
     "output_type": "stream",
     "text": [
      "a)\n",
      "Z własnej funkcji:\n",
      " [[ 0.33333333 -0.22222222]\n",
      " [ 0.          0.11111111]]\n",
      "Z gotowej funkcji:\n",
      " [[ 0.33333333 -0.22222222]\n",
      " [ 0.          0.11111111]]\n",
      "\n",
      " b)\n",
      "Z własnej funkcji:\n",
      " wyznacznik podanej macierzy wynosi 0\n",
      "Z gotowej funkcji:\n",
      "\n"
     ]
    },
    {
     "ename": "LinAlgError",
     "evalue": "Singular matrix",
     "output_type": "error",
     "traceback": [
      "\u001b[1;31m---------------------------------------------------------------------------\u001b[0m",
      "\u001b[1;31mLinAlgError\u001b[0m                               Traceback (most recent call last)",
      "Cell \u001b[1;32mIn [13], line 35\u001b[0m\n\u001b[0;32m     33\u001b[0m \u001b[38;5;28mprint\u001b[39m(\u001b[38;5;124m\"\u001b[39m\u001b[38;5;124mZ własnej funkcji:\u001b[39m\u001b[38;5;130;01m\\n\u001b[39;00m\u001b[38;5;124m\"\u001b[39m,inv2x2(B))\n\u001b[0;32m     34\u001b[0m \u001b[38;5;28mprint\u001b[39m(\u001b[38;5;124m\"\u001b[39m\u001b[38;5;124mZ gotowej funkcji:\u001b[39m\u001b[38;5;130;01m\\n\u001b[39;00m\u001b[38;5;124m\"\u001b[39m)\n\u001b[1;32m---> 35\u001b[0m \u001b[38;5;28mprint\u001b[39m(\u001b[43mnp\u001b[49m\u001b[38;5;241;43m.\u001b[39;49m\u001b[43mlinalg\u001b[49m\u001b[38;5;241;43m.\u001b[39;49m\u001b[43minv\u001b[49m\u001b[43m(\u001b[49m\u001b[43mB\u001b[49m\u001b[43m)\u001b[49m)\n",
      "File \u001b[1;32m<__array_function__ internals>:180\u001b[0m, in \u001b[0;36minv\u001b[1;34m(*args, **kwargs)\u001b[0m\n",
      "File \u001b[1;32m~\\.conda\\envs\\tf\\lib\\site-packages\\numpy\\linalg\\linalg.py:552\u001b[0m, in \u001b[0;36minv\u001b[1;34m(a)\u001b[0m\n\u001b[0;32m    550\u001b[0m signature \u001b[38;5;241m=\u001b[39m \u001b[38;5;124m'\u001b[39m\u001b[38;5;124mD->D\u001b[39m\u001b[38;5;124m'\u001b[39m \u001b[38;5;28;01mif\u001b[39;00m isComplexType(t) \u001b[38;5;28;01melse\u001b[39;00m \u001b[38;5;124m'\u001b[39m\u001b[38;5;124md->d\u001b[39m\u001b[38;5;124m'\u001b[39m\n\u001b[0;32m    551\u001b[0m extobj \u001b[38;5;241m=\u001b[39m get_linalg_error_extobj(_raise_linalgerror_singular)\n\u001b[1;32m--> 552\u001b[0m ainv \u001b[38;5;241m=\u001b[39m \u001b[43m_umath_linalg\u001b[49m\u001b[38;5;241;43m.\u001b[39;49m\u001b[43minv\u001b[49m\u001b[43m(\u001b[49m\u001b[43ma\u001b[49m\u001b[43m,\u001b[49m\u001b[43m \u001b[49m\u001b[43msignature\u001b[49m\u001b[38;5;241;43m=\u001b[39;49m\u001b[43msignature\u001b[49m\u001b[43m,\u001b[49m\u001b[43m \u001b[49m\u001b[43mextobj\u001b[49m\u001b[38;5;241;43m=\u001b[39;49m\u001b[43mextobj\u001b[49m\u001b[43m)\u001b[49m\n\u001b[0;32m    553\u001b[0m \u001b[38;5;28;01mreturn\u001b[39;00m wrap(ainv\u001b[38;5;241m.\u001b[39mastype(result_t, copy\u001b[38;5;241m=\u001b[39m\u001b[38;5;28;01mFalse\u001b[39;00m))\n",
      "File \u001b[1;32m~\\.conda\\envs\\tf\\lib\\site-packages\\numpy\\linalg\\linalg.py:89\u001b[0m, in \u001b[0;36m_raise_linalgerror_singular\u001b[1;34m(err, flag)\u001b[0m\n\u001b[0;32m     88\u001b[0m \u001b[38;5;28;01mdef\u001b[39;00m \u001b[38;5;21m_raise_linalgerror_singular\u001b[39m(err, flag):\n\u001b[1;32m---> 89\u001b[0m     \u001b[38;5;28;01mraise\u001b[39;00m LinAlgError(\u001b[38;5;124m\"\u001b[39m\u001b[38;5;124mSingular matrix\u001b[39m\u001b[38;5;124m\"\u001b[39m)\n",
      "\u001b[1;31mLinAlgError\u001b[0m: Singular matrix"
     ]
    }
   ],
   "source": [
    "# zad 1\n",
    "import numpy as np\n",
    "\n",
    "A = np.array([[3, 6],\n",
    "             [0, 9]])\n",
    "B = np.array([[-3, -9],\n",
    "             [1, 3]])\n",
    "\n",
    "def inv2x2(A):\n",
    "    det = A[0,0] * A[1,1] - A[0,1] * A[1,0]\n",
    "    if det == 0:\n",
    "        return \"wyznacznik podanej macierzy wynosi 0\"\n",
    "    \n",
    "    AD = np.zeros((len(A),len(A[0])))\n",
    "    AD[0][0] = A[1][1]\n",
    "    AD[0][1] = A[1][0] * (-1)\n",
    "    AD[1][0] = A[0][1] * (-1)\n",
    "    AD[1][1] = A[0][0]\n",
    "    \n",
    "    ADT = np.zeros((len(A[0]),len(A)))\n",
    "    for x in range(len(A)):\n",
    "        for y in range(len(A[0])):\n",
    "            ADT[y][x] = AD[x][y]\n",
    "            \n",
    "    I = ADT/det  \n",
    "    return I\n",
    "\n",
    "print(\"a)\")\n",
    "print(\"Z własnej funkcji:\\n\",inv2x2(A))\n",
    "print(\"Z gotowej funkcji:\\n\",np.linalg.inv(A))\n",
    "\n",
    "print(\"\\n b)\")\n",
    "print(\"Z własnej funkcji:\\n\",inv2x2(B))\n",
    "print(\"Z gotowej funkcji:\\n\")\n",
    "print(np.linalg.inv(B))\n"
   ]
  },
  {
   "cell_type": "code",
   "execution_count": 15,
   "id": "3697028e",
   "metadata": {
    "scrolled": true
   },
   "outputs": [
    {
     "name": "stdout",
     "output_type": "stream",
     "text": [
      "a)\n",
      "Z własnej funkcji:\n",
      " [[ 0.01574803 -0.05905512  0.13779528]\n",
      " [-0.20472441  0.1496063  -0.06299213]\n",
      " [ 0.19685039 -0.07480315 -0.02755906]]\n",
      "Z gotowej funkcji:\n",
      " [[ 0.01574803 -0.05905512  0.13779528]\n",
      " [-0.17322835  0.1496063  -0.01574803]\n",
      " [ 0.19685039  0.01181102 -0.02755906]]\n",
      "\n",
      " b)\n",
      "Z własnej funkcji:\n",
      " wyznacznik podanej macierzy wynosi 0\n",
      "Z gotowej funkcji:\n",
      " [[ 1.40737488e+15 -7.03687442e+14  7.03687442e+14]\n",
      " [ 1.97032484e+15 -9.85162418e+14  9.85162418e+14]\n",
      " [-2.25179981e+15  1.12589991e+15 -1.12589991e+15]]\n"
     ]
    }
   ],
   "source": [
    "# zad 2\n",
    "\n",
    "A2 = np.array([[1, 0, 5],\n",
    "              [2, 7, 6],\n",
    "              [8, 3, 2]])\n",
    "B2 = np.array([[3, -1, 1],\n",
    "              [5, 1, 4],\n",
    "              [-1, 3, 2]])\n",
    "\n",
    "def inv3x3(A):\n",
    "    det = (A[0][0]* (A[1][1]*A[2][2] - A[1][2] * A[2][1]))- (A[0][1]* (A[1][0]*A[2][2] - A[1][2]*A[2][0])) + A[0][2]* (A[1][0]*A[2][1] - A[1][1]*A[2][0])\n",
    "    if det == 0:\n",
    "        return \"wyznacznik podanej macierzy wynosi 0\"\n",
    "    \n",
    "    T = np.zeros((len(A[0]),len(A)))\n",
    "    for x in range(len(A)):\n",
    "        for y in range(len(A[0])):\n",
    "            T[y][x] = A[x][y]\n",
    "    \n",
    "    AD = np.zeros((len(A),len(A[0])))\n",
    "    AD[0][0] = T[1][1] * T[2][2] - T[1][2] * T[2][1]\n",
    "    AD[0][1] = T[1][0] * T[2][2] - T[1][2] * T[2][0] * (-1)\n",
    "    AD[0][2] = T[1][0] * T[2][1] - T[1][1] * T[2][0]\n",
    "    AD[1][0] = T[0][1] * T[2][2] - T[0][2] * T[2][1] * (-1)\n",
    "    AD[1][1] = T[0][0] * T[2][2] - T[0][2] * T[2][0]\n",
    "    AD[1][2] = T[0][0] * T[2][1] - T[0][1] * T[2][0] * (-1)\n",
    "    AD[2][0] = T[0][1] * T[1][2] - T[0][2] * T[1][1]\n",
    "    AD[2][1] = T[0][0] * T[1][2] - T[0][2] * T[0][1] * (-1)\n",
    "    AD[2][2] = T[0][0] * T[1][1] - T[0][1] * T[1][0]\n",
    "    \n",
    "    I = AD/det\n",
    "    return I\n",
    "\n",
    "print(\"a)\")\n",
    "print(\"Z własnej funkcji:\\n\",inv3x3(A2))\n",
    "print(\"Z gotowej funkcji:\\n\",np.linalg.inv(A2))\n",
    "\n",
    "print(\"\\n b)\")\n",
    "print(\"Z własnej funkcji:\\n\",inv3x3(B2))\n",
    "print(\"Z gotowej funkcji:\\n\",np.linalg.inv(B2))"
   ]
  },
  {
   "cell_type": "code",
   "execution_count": 23,
   "id": "c37e2d29",
   "metadata": {},
   "outputs": [
    {
     "name": "stdout",
     "output_type": "stream",
     "text": [
      "1a Z własnej funkcji:\n",
      "  [[ 0.33333333 -0.22222222]\n",
      " [ 0.          0.11111111]]\n",
      "\n",
      "Z gotowej funkcji:\n",
      " [[ 0.33333333 -0.22222222]\n",
      " [ 0.          0.11111111]]\n"
     ]
    }
   ],
   "source": [
    "# zad 3\n",
    "\n",
    "def inv(A):\n",
    "    if len(A) != len(A[0]):\n",
    "        return \"macierz nie jest kwadratowa\"\n",
    "    if len(A) == 2:\n",
    "        return inv2x2(A)\n",
    "    if len(A) == 3:\n",
    "        return inv3x3(A)\n",
    "    else:\n",
    "        return \"podaj macierz o wymiarach 2x2 lub 3x3\"\n",
    "\n",
    "print(\"1a Z własnej funkcji:\\n \", inv(A))\n",
    "print(\"\\nZ gotowej funkcji:\\n\",np.linalg.inv(A))"
   ]
  },
  {
   "cell_type": "code",
   "execution_count": 22,
   "id": "559db71d",
   "metadata": {},
   "outputs": [
    {
     "name": "stdout",
     "output_type": "stream",
     "text": [
      "1b Z własnej funkcji:\n",
      "  wyznacznik podanej macierzy wynosi 0\n",
      "Z gotowej funkcji:\n",
      "\n"
     ]
    },
    {
     "ename": "LinAlgError",
     "evalue": "Singular matrix",
     "output_type": "error",
     "traceback": [
      "\u001b[1;31m---------------------------------------------------------------------------\u001b[0m",
      "\u001b[1;31mLinAlgError\u001b[0m                               Traceback (most recent call last)",
      "Cell \u001b[1;32mIn [22], line 3\u001b[0m\n\u001b[0;32m      1\u001b[0m \u001b[38;5;28mprint\u001b[39m(\u001b[38;5;124m\"\u001b[39m\u001b[38;5;124m1b Z własnej funkcji:\u001b[39m\u001b[38;5;130;01m\\n\u001b[39;00m\u001b[38;5;124m \u001b[39m\u001b[38;5;124m\"\u001b[39m, inv(B))\n\u001b[0;32m      2\u001b[0m \u001b[38;5;28mprint\u001b[39m(\u001b[38;5;124m\"\u001b[39m\u001b[38;5;124mZ gotowej funkcji:\u001b[39m\u001b[38;5;130;01m\\n\u001b[39;00m\u001b[38;5;124m\"\u001b[39m)\n\u001b[1;32m----> 3\u001b[0m \u001b[38;5;28mprint\u001b[39m(\u001b[43mnp\u001b[49m\u001b[38;5;241;43m.\u001b[39;49m\u001b[43mlinalg\u001b[49m\u001b[38;5;241;43m.\u001b[39;49m\u001b[43minv\u001b[49m\u001b[43m(\u001b[49m\u001b[43mB\u001b[49m\u001b[43m)\u001b[49m)\n",
      "File \u001b[1;32m<__array_function__ internals>:180\u001b[0m, in \u001b[0;36minv\u001b[1;34m(*args, **kwargs)\u001b[0m\n",
      "File \u001b[1;32m~\\.conda\\envs\\tf\\lib\\site-packages\\numpy\\linalg\\linalg.py:552\u001b[0m, in \u001b[0;36minv\u001b[1;34m(a)\u001b[0m\n\u001b[0;32m    550\u001b[0m signature \u001b[38;5;241m=\u001b[39m \u001b[38;5;124m'\u001b[39m\u001b[38;5;124mD->D\u001b[39m\u001b[38;5;124m'\u001b[39m \u001b[38;5;28;01mif\u001b[39;00m isComplexType(t) \u001b[38;5;28;01melse\u001b[39;00m \u001b[38;5;124m'\u001b[39m\u001b[38;5;124md->d\u001b[39m\u001b[38;5;124m'\u001b[39m\n\u001b[0;32m    551\u001b[0m extobj \u001b[38;5;241m=\u001b[39m get_linalg_error_extobj(_raise_linalgerror_singular)\n\u001b[1;32m--> 552\u001b[0m ainv \u001b[38;5;241m=\u001b[39m \u001b[43m_umath_linalg\u001b[49m\u001b[38;5;241;43m.\u001b[39;49m\u001b[43minv\u001b[49m\u001b[43m(\u001b[49m\u001b[43ma\u001b[49m\u001b[43m,\u001b[49m\u001b[43m \u001b[49m\u001b[43msignature\u001b[49m\u001b[38;5;241;43m=\u001b[39;49m\u001b[43msignature\u001b[49m\u001b[43m,\u001b[49m\u001b[43m \u001b[49m\u001b[43mextobj\u001b[49m\u001b[38;5;241;43m=\u001b[39;49m\u001b[43mextobj\u001b[49m\u001b[43m)\u001b[49m\n\u001b[0;32m    553\u001b[0m \u001b[38;5;28;01mreturn\u001b[39;00m wrap(ainv\u001b[38;5;241m.\u001b[39mastype(result_t, copy\u001b[38;5;241m=\u001b[39m\u001b[38;5;28;01mFalse\u001b[39;00m))\n",
      "File \u001b[1;32m~\\.conda\\envs\\tf\\lib\\site-packages\\numpy\\linalg\\linalg.py:89\u001b[0m, in \u001b[0;36m_raise_linalgerror_singular\u001b[1;34m(err, flag)\u001b[0m\n\u001b[0;32m     88\u001b[0m \u001b[38;5;28;01mdef\u001b[39;00m \u001b[38;5;21m_raise_linalgerror_singular\u001b[39m(err, flag):\n\u001b[1;32m---> 89\u001b[0m     \u001b[38;5;28;01mraise\u001b[39;00m LinAlgError(\u001b[38;5;124m\"\u001b[39m\u001b[38;5;124mSingular matrix\u001b[39m\u001b[38;5;124m\"\u001b[39m)\n",
      "\u001b[1;31mLinAlgError\u001b[0m: Singular matrix"
     ]
    }
   ],
   "source": [
    "print(\"1b Z własnej funkcji:\\n \", inv(B))\n",
    "print(\"Z gotowej funkcji:\\n\")\n",
    "print(np.linalg.inv(B))"
   ]
  },
  {
   "cell_type": "code",
   "execution_count": 18,
   "id": "3d6035dc",
   "metadata": {},
   "outputs": [
    {
     "name": "stdout",
     "output_type": "stream",
     "text": [
      "2a Z własnej funkcji:\n",
      "  [[ 0.01574803 -0.05905512  0.13779528]\n",
      " [-0.20472441  0.1496063  -0.06299213]\n",
      " [ 0.19685039 -0.07480315 -0.02755906]]\n",
      "\n",
      "Z gotowej funkcji:\n",
      " [[ 0.01574803 -0.05905512  0.13779528]\n",
      " [-0.17322835  0.1496063  -0.01574803]\n",
      " [ 0.19685039  0.01181102 -0.02755906]]\n"
     ]
    }
   ],
   "source": [
    "print(\"2a Z własnej funkcji:\\n \", inv(A2))\n",
    "print(\"\\nZ gotowej funkcji:\\n\",np.linalg.inv(A2))"
   ]
  },
  {
   "cell_type": "code",
   "execution_count": 19,
   "id": "ee20df3e",
   "metadata": {},
   "outputs": [
    {
     "name": "stdout",
     "output_type": "stream",
     "text": [
      "2b Z własnej funkcji:\n",
      "  wyznacznik podanej macierzy wynosi 0\n",
      "\n",
      "Z gotowej funkcji:\n",
      " [[ 1.40737488e+15 -7.03687442e+14  7.03687442e+14]\n",
      " [ 1.97032484e+15 -9.85162418e+14  9.85162418e+14]\n",
      " [-2.25179981e+15  1.12589991e+15 -1.12589991e+15]]\n"
     ]
    }
   ],
   "source": [
    "print(\"2b Z własnej funkcji:\\n \", inv(B2))\n",
    "print(\"\\nZ gotowej funkcji:\\n\",np.linalg.inv(B2))"
   ]
  }
 ],
 "metadata": {
  "kernelspec": {
   "display_name": "Python 3 (ipykernel)",
   "language": "python",
   "name": "python3"
  },
  "language_info": {
   "codemirror_mode": {
    "name": "ipython",
    "version": 3
   },
   "file_extension": ".py",
   "mimetype": "text/x-python",
   "name": "python",
   "nbconvert_exporter": "python",
   "pygments_lexer": "ipython3",
   "version": "3.9.16"
  }
 },
 "nbformat": 4,
 "nbformat_minor": 5
}
