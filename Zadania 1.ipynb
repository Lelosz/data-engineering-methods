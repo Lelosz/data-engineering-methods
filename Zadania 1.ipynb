{
 "cells": [
  {
   "cell_type": "code",
   "execution_count": 29,
   "metadata": {},
   "outputs": [
    {
     "name": "stdout",
     "output_type": "stream",
     "text": [
      "Vector:  [1 4 5 6 2 1 5 6 7 8]\n",
      "Deleted index 5:  [1 4 5 6 2 5 6 7 8]\n",
      "Append 8:  [1 4 5 6 2 5 6 7 8 8]\n",
      "Odd index +2:  [ 1  6  5  8  2  7  6  9  8 10]\n",
      "Flipped vec: [10  8  9  6  7  2  8  5  6  1]\n"
     ]
    }
   ],
   "source": [
    "import numpy as np\n",
    "\n",
    "#zad1\n",
    "vec = np.array([1, 4, 5, 6, 2, 1, 5, 6, 7, 8])\n",
    "print(\"Vector: \",vec)\n",
    "\n",
    "vec = np.delete(vec, 5)\n",
    "print(\"Deleted index 5: \",vec)\n",
    "\n",
    "vec = np.append(vec, [8])\n",
    "print(\"Append 8: \",vec)\n",
    "\n",
    "for x in range(len(vec)):\n",
    "    if x%2 == 1:\n",
    "        vec[x] +=2\n",
    "print(\"Odd index +2: \",vec)\n",
    "\n",
    "vec = np.flip(vec)\n",
    "print(\"Flipped vec:\", vec)"
   ]
  },
  {
   "cell_type": "code",
   "execution_count": 30,
   "metadata": {},
   "outputs": [
    {
     "name": "stdout",
     "output_type": "stream",
     "text": [
      "Multiplication using numpy array:\n",
      " [12 12 12 12 12]\n",
      "Multiplication using python list\n",
      " [1, 2, 3, 4, 5, 1, 2, 3, 4, 5, 1, 2, 3, 4, 5]\n"
     ]
    }
   ],
   "source": [
    "#zad2\n",
    "\"\"\"\n",
    "Mnozenie wektora powstałego za pomocą numpya przez skalar różni się od mnożenia listy przez skalar tym, że w przypadku\n",
    "mnożenia listy przez skalar elementy są powielane. Natomiast w przypadku arraya numpya wartości elementów sa mnożone.\n",
    "\"\"\"\n",
    "\n",
    "vec = np.array([4, 4, 4, 4, 4])\n",
    "li = [1, 2, 3, 4 ,5]\n",
    "scalar = 3\n",
    "vec = scalar * vec\n",
    "print(\"Multiplication using numpy array:\\n\",vec)\n",
    "li = scalar * li\n",
    "print(\"Multiplication using python list\\n\",li)"
   ]
  },
  {
   "cell_type": "code",
   "execution_count": 31,
   "metadata": {},
   "outputs": [
    {
     "name": "stdout",
     "output_type": "stream",
     "text": [
      "[[3 5 0]\n",
      " [2 6 1]\n",
      " [3 8 9]]\n",
      "First element changed to -2:\n",
      " [[-2  5  0]\n",
      " [ 2  6  1]\n",
      " [ 3  8  9]]\n",
      "Element in middle changed to 44:\n",
      " [[-2  5  0]\n",
      " [ 2 44  1]\n",
      " [ 3  8  9]]\n",
      "Last element changed to 0:\n",
      " [[-2  5  0]\n",
      " [ 2 44  1]\n",
      " [ 3  8  0]]\n"
     ]
    }
   ],
   "source": [
    "#zad3\n",
    "matrix = np.array([[3, 5, 0],[2, 6, 1],[3, 8, 9]])\n",
    "print(matrix)\n",
    "\n",
    "matrix[0,0] = -2\n",
    "print(\"First element changed to -2:\\n\", matrix)\n",
    "\n",
    "matrix[1,1] = 44\n",
    "print(\"Element in middle changed to 44:\\n\", matrix)\n",
    "\n",
    "matrix[2,2] = 0\n",
    "print(\"Last element changed to 0:\\n\", matrix)"
   ]
  },
  {
   "cell_type": "code",
   "execution_count": 32,
   "metadata": {},
   "outputs": [
    {
     "name": "stdout",
     "output_type": "stream",
     "text": [
      "Even indexes changed to 0:\n",
      " [[ 0  5  0]\n",
      " [ 2 44  1]\n",
      " [ 0  8  0]]\n"
     ]
    }
   ],
   "source": [
    "#zad4\n",
    "\n",
    "for x in range(len(matrix)):\n",
    "    for y in range(len(matrix[0])):\n",
    "        if (x%2 == 0) and (y%2 == 0):\n",
    "            matrix[x,y] = 0\n",
    "print(\"Even indexes changed to 0:\\n\", matrix)"
   ]
  },
  {
   "cell_type": "code",
   "execution_count": 33,
   "metadata": {},
   "outputs": [
    {
     "name": "stdout",
     "output_type": "stream",
     "text": [
      "[[2 1 1]\n",
      " [1 3 6]\n",
      " [4 5 5]]\n",
      "    +\n",
      " [[1 0 5]\n",
      " [2 1 6]\n",
      " [0 3 0]]\n",
      "    =\n",
      " [[ 3  1  6]\n",
      " [ 3  4 12]\n",
      " [ 4  8  5]]\n"
     ]
    }
   ],
   "source": [
    "#zad5\n",
    "\n",
    "matrix1 = np.array([[2, 1, 1],[1, 3, 6],[4, 5, 5]])\n",
    "matrix2 = np.array([[1, 0, 5],[2, 1, 6],[0, 3, 0]])\n",
    "matrix3 = np.copy(matrix1)\n",
    "print(matrix1)\n",
    "print(\"    +\\n\",matrix2)\n",
    "\n",
    "for x in range(len(matrix)):\n",
    "    for y in range(len(matrix[0])):\n",
    "        matrix3[x,y] = matrix1[x,y] + matrix2[x,y]\n",
    "print(\"    =\\n\",matrix3)"
   ]
  },
  {
   "cell_type": "code",
   "execution_count": 34,
   "metadata": {},
   "outputs": [
    {
     "data": {
      "text/plain": [
       "<tf.Tensor: shape=(4, 4), dtype=int32, numpy=\n",
       "array([[1, 2, 3, 4],\n",
       "       [1, 2, 3, 4],\n",
       "       [1, 2, 3, 4],\n",
       "       [1, 2, 3, 4]])>"
      ]
     },
     "execution_count": 34,
     "metadata": {},
     "output_type": "execute_result"
    }
   ],
   "source": [
    "#zad6\n",
    "\n",
    "import tensorflow as tf\n",
    "\n",
    "\"\"\"\n",
    "shape=(4,4) - tensor o rozmiarze 4x4\n",
    "dtype=int32 - wartości tego tensora są 32-bitowymi liczbami calkowitymi\n",
    "numpy=array - jest to reprezentacja macierzy numpyowskiej\n",
    "\"\"\"\n",
    "t = tf.constant([[1, 2, 3 ,4],[1, 2, 3, 4],[1, 2, 3, 4], [1, 2, 3, 4]])\n",
    "t\n",
    "\n"
   ]
  }
 ],
 "metadata": {
  "kernelspec": {
   "display_name": "Python 3 (ipykernel)",
   "language": "python",
   "name": "python3"
  },
  "language_info": {
   "codemirror_mode": {
    "name": "ipython",
    "version": 3
   },
   "file_extension": ".py",
   "mimetype": "text/x-python",
   "name": "python",
   "nbconvert_exporter": "python",
   "pygments_lexer": "ipython3",
   "version": "3.9.16"
  }
 },
 "nbformat": 4,
 "nbformat_minor": 1
}
