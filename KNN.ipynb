{
 "cells": [
  {
   "cell_type": "code",
   "execution_count": 7,
   "id": "662dc0a9",
   "metadata": {
    "scrolled": false
   },
   "outputs": [
    {
     "name": "stdout",
     "output_type": "stream",
     "text": [
      "Metryka Euklidesowa:\n",
      "Poziom zgodności: 100.0\n",
      "wynik z funkcji: [1, 1, 0, 1, 1, 0, 0, 0, 2, 2, 2, 0, 0, 1, 2, 2, 2, 1, 0, 0, 0, 2, 2, 1, 0, 2, 0, 2, 1, 2, 1, 0, 2, 0, 1, 1, 1, 0, 2, 0, 0, 2, 0, 2, 0]\n",
      "stan y_test: [1 1 0 1 1 0 0 0 2 2 2 0 0 1 2 2 2 1 0 0 0 2 2 1 0 2 0 2 1 2 1 0 2 0 1 1 1\n",
      " 0 2 0 0 2 0 2 0]\n"
     ]
    }
   ],
   "source": [
    "from sklearn.datasets import load_iris\n",
    "from sklearn.model_selection import train_test_split\n",
    "from math import *\n",
    "from numpy import *\n",
    "\n",
    "data = load_iris()\n",
    "X_train, X_test, y_train, y_test = train_test_split(data.data, data.target, test_size=0.3,)\n",
    "\n",
    "\n",
    "def knn(k, X_test, X_train,y_train,method):\n",
    "    li_test = [None] * len(X_test)\n",
    "    for x in range(len(X_test)):\n",
    "        li_train = [None] * len(X_train)\n",
    "        \n",
    "        for y in range(len(X_train)):\n",
    "            if method == 0:\n",
    "                li_train[y] = sqrt((X_train[y,0] - X_test[x,0])**2 + (X_train[y,1] - X_test[x,1])**2  \\\n",
    "                                 + (X_train[y,2] - X_test[x,2])**2 + (X_train[y,3] - X_test[x,3])**2 )\n",
    "            elif method == 1:\n",
    "                li_train[y] = abs(X_train[y,0] - X_test[x,0]) + abs(X_train[y,1] - X_test[x,1]) \\\n",
    "                                 + abs(X_train[y,2] - X_test[x,2]) + abs(X_train[y,3] - X_test[x,3])\n",
    "            elif method == 2:\n",
    "                li_train[y] = 1- ((X_train[y,0] * X_test[x,0] + X_train[y,1] * X_test[x,1] \\\n",
    "                            + X_train[y,2] * X_test[x,2] + X_train[y,3] * X_test[x,3]) \\\n",
    "                            / (sqrt(X_train[y,0]**2 + X_train[y,1]**2 + X_train[y,2]**2 \\\n",
    "                            + X_train[y,3]**2) * sqrt(X_test[x,0]**2 + X_test[x,1]**2 \\\n",
    "                            + X_test[x,2]**2 + X_test[x,3]**2 )))\n",
    "            else:\n",
    "                \"Niepoprawna metoda\"\n",
    "\n",
    "        k_nearest_distances = argsort(li_train)[:k]\n",
    "        weights = []\n",
    "        for i in k_nearest_distances:\n",
    "            if li_train[i] != 0:\n",
    "                weights.append(1/li_train[i])\n",
    "            else:\n",
    "                weights.append(1/inf)\n",
    "        classes = [y_train[i] for i in k_nearest_distances]\n",
    "        combcw = list(zip(classes,weights))\n",
    "        weights_combined = array([[0,0],[1,0],[2,0]], dtype=float)\n",
    "        for z in range(k):\n",
    "            if combcw[z][0] == 0:\n",
    "                weights_combined[0][1] = weights_combined[0][1] + combcw[z][1]\n",
    "            elif combcw[z][0] == 1:\n",
    "                weights_combined[1][1] = weights_combined[1][1] + combcw[z][1]\n",
    "            else:\n",
    "                weights_combined[2][1] = weights_combined[2][1] + combcw[z][1]\n",
    "        highest_weight = unravel_index(argmax(weights_combined), weights_combined.shape)[0]\n",
    "        li_test[x] = highest_weight\n",
    "    return li_test\n",
    "\n",
    "\n",
    "k = 3\n",
    "# 0 - Metryka Euklidesowa, 1 - Metryka Manhattan, 2 - Metryka cosinusowa\n",
    "method = 0\n",
    "result = knn(k,X_test,X_train,y_train,method)\n",
    "print(\"Metryka Euklidesowa:\")\n",
    "print('Poziom zgodności:', sum(result == y_test)/len(y_test)*100)\n",
    "print(\"wynik z funkcji:\",result)\n",
    "print(\"stan y_test:\",y_test)\n"
   ]
  },
  {
   "cell_type": "code",
   "execution_count": 8,
   "id": "a699a02d",
   "metadata": {},
   "outputs": [
    {
     "name": "stdout",
     "output_type": "stream",
     "text": [
      "Metryka Manhattan:\n",
      "Poziom zgodności: 100.0\n",
      "wynik z funkcji: [1, 1, 0, 1, 1, 0, 0, 0, 2, 2, 2, 0, 0, 1, 2, 2, 2, 1, 0, 0, 0, 2, 2, 1, 0, 2, 0, 2, 1, 2, 1, 0, 2, 0, 1, 1, 1, 0, 2, 0, 0, 2, 0, 2, 0]\n",
      "stan y_test: [1 1 0 1 1 0 0 0 2 2 2 0 0 1 2 2 2 1 0 0 0 2 2 1 0 2 0 2 1 2 1 0 2 0 1 1 1\n",
      " 0 2 0 0 2 0 2 0]\n"
     ]
    }
   ],
   "source": [
    "method = 1\n",
    "result = knn(k,X_test,X_train,y_train,method)\n",
    "print(\"Metryka Manhattan:\")\n",
    "print('Poziom zgodności:', sum(result == y_test)/len(y_test)*100)\n",
    "print(\"wynik z funkcji:\",result)\n",
    "print(\"stan y_test:\",y_test)"
   ]
  },
  {
   "cell_type": "code",
   "execution_count": 9,
   "id": "8512a925",
   "metadata": {},
   "outputs": [
    {
     "name": "stdout",
     "output_type": "stream",
     "text": [
      "Metryka cosinusowa:\n",
      "Poziom zgodności: 100.0\n",
      "wynik z funkcji: [1, 1, 0, 1, 1, 0, 0, 0, 2, 2, 2, 0, 0, 1, 2, 2, 2, 1, 0, 0, 0, 2, 2, 1, 0, 2, 0, 2, 1, 2, 1, 0, 2, 0, 1, 1, 1, 0, 2, 0, 0, 2, 0, 2, 0]\n",
      "stan y_test: [1 1 0 1 1 0 0 0 2 2 2 0 0 1 2 2 2 1 0 0 0 2 2 1 0 2 0 2 1 2 1 0 2 0 1 1 1\n",
      " 0 2 0 0 2 0 2 0]\n"
     ]
    }
   ],
   "source": [
    "method = 2\n",
    "result = knn(k,X_test,X_train,y_train,method)\n",
    "print(\"Metryka cosinusowa:\")\n",
    "print('Poziom zgodności:', sum(result == y_test)/len(y_test)*100)\n",
    "print(\"wynik z funkcji:\",result)\n",
    "print(\"stan y_test:\",y_test)"
   ]
  },
  {
   "cell_type": "code",
   "execution_count": null,
   "id": "cb0b2a7c",
   "metadata": {},
   "outputs": [],
   "source": []
  }
 ],
 "metadata": {
  "kernelspec": {
   "display_name": "Python 3 (ipykernel)",
   "language": "python",
   "name": "python3"
  },
  "language_info": {
   "codemirror_mode": {
    "name": "ipython",
    "version": 3
   },
   "file_extension": ".py",
   "mimetype": "text/x-python",
   "name": "python",
   "nbconvert_exporter": "python",
   "pygments_lexer": "ipython3",
   "version": "3.9.16"
  }
 },
 "nbformat": 4,
 "nbformat_minor": 5
}
