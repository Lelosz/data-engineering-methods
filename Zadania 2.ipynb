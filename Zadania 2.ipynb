{
 "cells": [
  {
   "cell_type": "code",
   "execution_count": 17,
   "id": "d13549cf",
   "metadata": {},
   "outputs": [
    {
     "name": "stdout",
     "output_type": "stream",
     "text": [
      "[[2 1 1]\n",
      " [1 3 6]\n",
      " [4 5 5]]\n",
      "    x\n",
      " [[1 0 5]\n",
      " [2 1 6]\n",
      " [0 3 0]] \n",
      "     =\n",
      "[[ 4.  4. 16.]\n",
      " [ 7. 21. 23.]\n",
      " [14. 20. 50.]]\n"
     ]
    }
   ],
   "source": [
    "import numpy as np\n",
    "\n",
    "#zad 1\n",
    "# macierz A z zadania\n",
    "A = np.array([[2, 1, 1], \n",
    "             [1, 3, 6],\n",
    "             [4, 5, 5]])\n",
    "# macierz B z zadania\n",
    "B = np.array([[1, 0 ,5],\n",
    "             [2, 1, 6],\n",
    "             [0, 3, 0]])\n",
    "# wyświetlenie macierzy A i B\n",
    "print(A)\n",
    "print(\"    x\\n\",B,\"\\n     =\")\n",
    "\n",
    "def mul(A, B):\n",
    "    # pusta macierz wynikowa\n",
    "    C = np.zeros((len(A),len(B[0])))\n",
    "    # sprawdza czy liczba kolumn pierwszej macierzy rowna sie liczbie wierszy drugiej\n",
    "    if len(B) == len(A[0]): \n",
    "        for x in range(len(A)): # przechodzimy przez wiersze macierzy A\n",
    "            for y in range(len(B[0])): # przechodzimy przez kolumny macierzy B\n",
    "                for z in range(len(B)): # z kolumn macierzy B bierzemy wiersze\n",
    "                    C[x][y] += A[x,z] * B[z,y] # mnożymy po kolei elementy wiersza macierzy A z elementami \n",
    "                                               # danej kolumny macierzy B\n",
    "        return C # zwracamy wynik\n",
    "                \n",
    "    else: \n",
    "        # jeżeli warunek mnożenia macierzy nie jest spełniony wyświetl błąd\n",
    "        print(\"Macierze A i B nie mogą być pomnożone\")\n",
    "    \n",
    "# wyświetlamy wynik końcowy zwrócony z funkcji\n",
    "print(mul(A,B))"
   ]
  },
  {
   "cell_type": "code",
   "execution_count": 18,
   "id": "2f26d88a",
   "metadata": {},
   "outputs": [
    {
     "name": "stdout",
     "output_type": "stream",
     "text": [
      "-2\n"
     ]
    }
   ],
   "source": [
    "#zad 2 \n",
    "# macierz A z zadania\n",
    "A = np.array([[1,  4, 5],\n",
    "             [2, 1, 6],\n",
    "             [0, 3 ,2]])\n",
    "\n",
    "def det(A):\n",
    "    if len(A) == len(A[0]): # sprawdzamy czy macierz ma wymiary 3x3\n",
    "        # wyliczamy wyznacznik zgodnie ze wzorem Cramera\n",
    "        d = (A[0][0]* (A[1][1]*A[2][2] - A[1][2] * A[2][1]))- (A[0][1]* (A[1][0]*A[2][2] - A[1][2]*A[2][0])) + A[0][2]* (A[1][0]*A[2][1] - A[1][1]*A[2][0])\n",
    "        return d # zwracamy wyliczony wyznacznik\n",
    "    else:\n",
    "        return \"Podałeś inną macierz niż 3x3\" # jeżeli macierz ma inne wymiary niż 3x3 zwracamy komunikat\n",
    "\n",
    "# wyświetlamy wynik końcowy zwrócony z funkcji\n",
    "print(det(A))"
   ]
  },
  {
   "cell_type": "code",
   "execution_count": 19,
   "id": "9c3e8966",
   "metadata": {},
   "outputs": [
    {
     "name": "stdout",
     "output_type": "stream",
     "text": [
      "[[3. 2. 7.]\n",
      " [2. 3. 7.]\n",
      " [4. 5. 2.]\n",
      " [1. 6. 1.]\n",
      " [8. 0. 4.]\n",
      " [0. 3. 5.]]\n"
     ]
    }
   ],
   "source": [
    "#zad 3 \n",
    "# macierz A z zadania\n",
    "A = np.array([[3, 2, 4, 1, 8, 0],\n",
    "             [2, 3, 5, 6, 0, 3],\n",
    "             [7, 7, 2, 1, 4, 5]])\n",
    "\n",
    "def tran(A):\n",
    "    # tworzymy nową macierz z zamienionymi wierszami i kolumnami do transpozycji\n",
    "    T = np.zeros((len(A[0]),len(A)))\n",
    "    for x in range(len(A)): # przechodzimy przez wiersze\n",
    "        for y in range(len(A[0])): # przechodzimy przez kolumny\n",
    "            T[y][x] = A[x][y] # do nowo utworzonej macierzy przypisujemy elementy macierzy A na odwrót\n",
    "    return T # zwracamy macierz po transpozycji\n",
    "\n",
    "# wyświetlamy wynik końcowy zwrócony z funkcji\n",
    "print(tran(A))"
   ]
  }
 ],
 "metadata": {
  "kernelspec": {
   "display_name": "Python 3 (ipykernel)",
   "language": "python",
   "name": "python3"
  },
  "language_info": {
   "codemirror_mode": {
    "name": "ipython",
    "version": 3
   },
   "file_extension": ".py",
   "mimetype": "text/x-python",
   "name": "python",
   "nbconvert_exporter": "python",
   "pygments_lexer": "ipython3",
   "version": "3.9.16"
  }
 },
 "nbformat": 4,
 "nbformat_minor": 5
}
