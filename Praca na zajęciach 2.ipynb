{
 "cells": [
  {
   "cell_type": "code",
   "execution_count": 1,
   "id": "c37916d5",
   "metadata": {},
   "outputs": [
    {
     "name": "stdout",
     "output_type": "stream",
     "text": [
      "Mnożenie za pomocą np.dot() \n",
      " [[ 4  4 16]\n",
      " [ 7 21 23]\n",
      " [14 20 50]]\n",
      "Mnożenie za pomocą np.matmul() \n",
      " [[ 4  4 16]\n",
      " [ 7 21 23]\n",
      " [14 20 50]]\n",
      "Mnożenie za pomocą operatora @ \n",
      " [[ 4  4 16]\n",
      " [ 7 21 23]\n",
      " [14 20 50]]\n"
     ]
    }
   ],
   "source": [
    "import numpy as np \n",
    "\n",
    "A = np.array([2, 1, 1, 1, 3, 6, 4, 5, 5]).reshape(3,3)\n",
    "B = np.array([1, 0, 5, 2, 1, 6, 0, 3, 0]).reshape(3,3)\n",
    "\n",
    "C = np.dot(A,B)\n",
    "print(\"Mnożenie za pomocą np.dot() \\n\", C)\n",
    "#Dokumentacja NumPy mówi jednak, że używać np.dot() należy tylko do obliczania\n",
    "#iloczynu skalarnego dwóch jednowymiarowych wektorów, a nie do mnożenia macierzy.\n",
    "\n",
    "D = np.matmul(A,B)\n",
    "E = A@B\n",
    "\n",
    "print(\"Mnożenie za pomocą np.matmul() \\n\", D)\n",
    "print(\"Mnożenie za pomocą operatora @ \\n\", E)"
   ]
  },
  {
   "cell_type": "code",
   "execution_count": 2,
   "id": "fc318d71",
   "metadata": {},
   "outputs": [
    {
     "name": "stdout",
     "output_type": "stream",
     "text": [
      "Rank of A: 4\n"
     ]
    }
   ],
   "source": [
    "A = np.array([[6, 1, 1, 4],\n",
    "             [4, -2, 5, 1],\n",
    "             [2, 8, 7, 4],\n",
    "             [2, 2, 1, 3]])\n",
    "\n",
    "# Rank of a matrix\n",
    "print(\"Rank of A:\", np.linalg.matrix_rank(A)) #rząd"
   ]
  },
  {
   "cell_type": "code",
   "execution_count": 3,
   "id": "960a33c3",
   "metadata": {},
   "outputs": [
    {
     "name": "stdout",
     "output_type": "stream",
     "text": [
      "\n",
      "Determinant of A: -306.0\n"
     ]
    }
   ],
   "source": [
    "A = np.array([[6, 1, 1],\n",
    "             [4, -2, 5],\n",
    "             [2, 8, 7]])\n",
    "\n",
    "# Determinant of a matrix\n",
    "print(\"\\nDeterminant of A:\", np.linalg.det(A))"
   ]
  },
  {
   "cell_type": "code",
   "execution_count": 4,
   "id": "246a4a36",
   "metadata": {},
   "outputs": [
    {
     "name": "stdout",
     "output_type": "stream",
     "text": [
      "[[ 4 -4 12]\n",
      " [ 3 -2  8]\n",
      " [ 2 -5 -7]\n",
      " [ 0  1  4]]\n"
     ]
    }
   ],
   "source": [
    "A = np.array([[4, 3, 2, 0],\n",
    "             [-4, -2, -5, 1],\n",
    "             [12, 8 ,-7, 4]])\n",
    "\n",
    "M = np.transpose(A)\n",
    "print(M)"
   ]
  }
 ],
 "metadata": {
  "kernelspec": {
   "display_name": "Python 3 (ipykernel)",
   "language": "python",
   "name": "python3"
  },
  "language_info": {
   "codemirror_mode": {
    "name": "ipython",
    "version": 3
   },
   "file_extension": ".py",
   "mimetype": "text/x-python",
   "name": "python",
   "nbconvert_exporter": "python",
   "pygments_lexer": "ipython3",
   "version": "3.9.16"
  }
 },
 "nbformat": 4,
 "nbformat_minor": 5
}
