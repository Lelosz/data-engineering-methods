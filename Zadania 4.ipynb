{
 "cells": [
  {
   "cell_type": "code",
   "execution_count": 21,
   "id": "a0952594",
   "metadata": {},
   "outputs": [
    {
     "name": "stdout",
     "output_type": "stream",
     "text": [
      "A) x=6.0, y=-5.0\n",
      "B) x=-1.0, y=1.0, z=-2.0\n",
      "przypadek testowy 2x2:  Wyznacznik rowny zero\n",
      "przypadek testowy 3x3:  Podaj uklad z 2 lub 3 niewiadomymi\n"
     ]
    }
   ],
   "source": [
    "#zad 1 \n",
    "import numpy as np\n",
    "A = np.array([[3, 5,-7],\n",
    "             [1, 4,-14]])\n",
    "B = np.array([[1, 2, 3,-5],\n",
    "             [3, 1, -3,4],\n",
    "             [-3, 4, 7,-7]])\n",
    "C = np.array([[1,1,3],\n",
    "             [1,1,2]])\n",
    "D = np.array([[1,1,3,4,5],\n",
    "             [1,1,2,4,1],\n",
    "             [1,1,2,4,0]])\n",
    "\n",
    "def solve(A):\n",
    "    if len(A[0]) == 3 and len(A) == 2:\n",
    "        D = A[0,0] * A[1,1] - A[0,1] * A[1,0]\n",
    "        if D == 0: \n",
    "            return \"Wyznacznik rowny zero\"\n",
    "        Ax = A.copy()\n",
    "        Ax[0:2,0:1] = Ax[0:2,2:3]\n",
    "        Dx = Ax[0,0] * Ax[1,1] - Ax[0,1] * Ax[1,0]\n",
    "        Ay = A.copy()\n",
    "        Ay[0:2,1:2] = Ax[0:2,2:3]\n",
    "        Dy = Ay[0,0] * Ay[1,1] - Ay[0,1] * Ay[1,0]\n",
    "        x = Dx/D\n",
    "        y = Dy/D\n",
    "        return f'x={x}, y={y}'\n",
    "    if len(A[0]) == 4 and len(A) == 3:\n",
    "        D = (A[0][0]* (A[1][1]*A[2][2] - A[1][2] * A[2][1]))- (A[0][1]* (A[1][0]*A[2][2] - A[1][2]*A[2][0])) + A[0][2]* (A[1][0]*A[2][1] - A[1][1]*A[2][0])\n",
    "        if D == 0:\n",
    "            return \"Wyznacznik rowny zero\"\n",
    "        Ax = A.copy()\n",
    "        Ax[0:3, 0:1] = Ax[0:3,3:4]\n",
    "        Dx = (Ax[0][0]* (Ax[1][1]*Ax[2][2] - Ax[1][2] * Ax[2][1]))- (Ax[0][1]* (Ax[1][0]*Ax[2][2] - Ax[1][2]*Ax[2][0])) + Ax[0][2]* (Ax[1][0]*Ax[2][1] - Ax[1][1]*Ax[2][0])\n",
    "        Ay = A.copy()\n",
    "        Ay[0:3, 1:2] = Ax[0:3,3:4]\n",
    "        Dy = (Ay[0][0]* (Ay[1][1]*Ay[2][2] - Ay[1][2] * Ay[2][1]))- (Ay[0][1]* (Ay[1][0]*Ay[2][2] - Ay[1][2]*Ay[2][0])) + Ay[0][2]* (Ay[1][0]*Ay[2][1] - Ay[1][1]*Ay[2][0])\n",
    "        Az = A.copy()\n",
    "        Az[0:3, 2:3] = Ax[0:3,3:4]\n",
    "        Dz = (A[0][0]* (Az[1][1]*Az[2][2] - Az[1][2] * Az[2][1]))- (Az[0][1]* (Az[1][0]*Az[2][2] - Az[1][2]*Az[2][0])) + Az[0][2]* (Az[1][0]*Az[2][1] - Az[1][1]*Az[2][0])\n",
    "        x = Dx/D\n",
    "        y = Dy/D\n",
    "        z = Dz/D\n",
    "        return f'x={x}, y={y}, z={z}'\n",
    "    return \"Podaj uklad z 2 lub 3 niewiadomymi\"\n",
    "\n",
    "print(\"A)\",solve(A))\n",
    "print(\"B)\",solve(B))\n",
    "print(\"przypadek testowy 2x2: \", solve(C))\n",
    "print(\"przypadek testowy 3x3: \", solve(D))"
   ]
  },
  {
   "cell_type": "code",
   "execution_count": null,
   "id": "d16b381a",
   "metadata": {},
   "outputs": [],
   "source": []
  }
 ],
 "metadata": {
  "kernelspec": {
   "display_name": "Python 3 (ipykernel)",
   "language": "python",
   "name": "python3"
  },
  "language_info": {
   "codemirror_mode": {
    "name": "ipython",
    "version": 3
   },
   "file_extension": ".py",
   "mimetype": "text/x-python",
   "name": "python",
   "nbconvert_exporter": "python",
   "pygments_lexer": "ipython3",
   "version": "3.9.16"
  }
 },
 "nbformat": 4,
 "nbformat_minor": 5
}
